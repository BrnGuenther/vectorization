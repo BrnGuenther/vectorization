{
 "cells": [
  {
   "attachments": {},
   "cell_type": "markdown",
   "metadata": {},
   "source": [
    "## Creating our Dataset"
   ]
  },
  {
   "cell_type": "code",
   "execution_count": 3,
   "metadata": {},
   "outputs": [],
   "source": [
    "import pandas as pd\n",
    "import numpy as np"
   ]
  },
  {
   "cell_type": "code",
   "execution_count": 87,
   "metadata": {},
   "outputs": [],
   "source": [
    "df = pd.DataFrame()\n",
    "\n",
    "size = 100000\n",
    "\n",
    "df['age'] = np.random.randint(0, 100, size)\n",
    "df['time_on_socialmedia_per_day(hours)'] = np.random.uniform(0, 5, size)\n",
    "df['number_of_workouts_per_week'] = np.random.randint(0, 10, size)\n",
    "df['food_routine'] = np.random.choice(['healthy', 'balanced', 'moderate', 'irregular', 'unhealthy'], size)\n",
    "df['avg_time_sleeping'] = np.random.uniform(0, 10, size)"
   ]
  },
  {
   "attachments": {},
   "cell_type": "markdown",
   "metadata": {},
   "source": [
    "### Level 1 - Using Loops and Locs"
   ]
  },
  {
   "cell_type": "code",
   "execution_count": 74,
   "metadata": {},
   "outputs": [],
   "source": [
    "def check_age(age):\n",
    "    if age > 40:\n",
    "        return True\n",
    "    else:\n",
    "        return False"
   ]
  },
  {
   "cell_type": "code",
   "execution_count": 75,
   "metadata": {},
   "outputs": [],
   "source": [
    "def recommend_doctor(column, value):\n",
    "    if (\n",
    "        (column == 'time_on_socialmedia_per_day(hours)') and (value >= 4) or\n",
    "        (column == 'number_of_workouts_per_week') and (value <= 1) or\n",
    "        (column == 'food_routine') and ((value == 'irregular') or (value == 'unhealthy')) or\n",
    "        (column == 'avg_time_sleeping') and (value <= 4)\n",
    "    ):\n",
    "        return True\n",
    "    else:\n",
    "        return False"
   ]
  },
  {
   "cell_type": "code",
   "execution_count": 90,
   "metadata": {},
   "outputs": [
    {
     "name": "stdout",
     "output_type": "stream",
     "text": [
      "51.4 s ± 673 ms per loop (mean ± std. dev. of 7 runs, 1 loop each)\n"
     ]
    }
   ],
   "source": [
    "%%timeit\n",
    "\n",
    "df['Need Doctor? (1)'] = None\n",
    "for column in ['time_on_socialmedia_per_day(hours)', 'number_of_workouts_per_week', 'food_routine', 'avg_time_sleeping']:    \n",
    "    for index in range(len(df)):\n",
    "        age = df.loc[index, 'age']\n",
    "\n",
    "        if (check_age(age) == True) and (recommend_doctor(column, df.loc[index, column]) == True):\n",
    "            df.loc[index, 'Need Doctor? (1)'] = True\n",
    "        \n",
    "        else:\n",
    "\n",
    "         if (df.loc[index, 'Need Doctor? (1)'] == True):\n",
    "             None\n",
    "\n",
    "         else: \n",
    "             df.loc[index, 'Need Doctor? (1)'] = False\n",
    " \n",
    "    "
   ]
  },
  {
   "attachments": {},
   "cell_type": "markdown",
   "metadata": {},
   "source": [
    "### Level 2 - Using Loops and Iterrows"
   ]
  },
  {
   "cell_type": "code",
   "execution_count": 91,
   "metadata": {},
   "outputs": [],
   "source": [
    "def recommend_doctor2(row):\n",
    "    if row['age'] >= 40:\n",
    "        if (\n",
    "            (row['time_on_socialmedia_per_day(hours)'] >= 4) or\n",
    "            (row['number_of_workouts_per_week'] <= 1) or\n",
    "            (row['food_routine'] == 'irregular' or row['food_routine'] == 'unhealthy') or\n",
    "            (row['avg_time_sleeping'] <= 4)\n",
    "        ):\n",
    "            return True\n",
    "        else:\n",
    "            return False\n",
    "    else:\n",
    "        return False"
   ]
  },
  {
   "cell_type": "code",
   "execution_count": 92,
   "metadata": {},
   "outputs": [
    {
     "name": "stdout",
     "output_type": "stream",
     "text": [
      "13.3 s ± 457 ms per loop (mean ± std. dev. of 7 runs, 1 loop each)\n"
     ]
    }
   ],
   "source": [
    "%%timeit\n",
    "for index, row in df.iterrows():\n",
    "    df.loc[index, 'Need Doctor? (2)'] = recommend_doctor2(row)"
   ]
  },
  {
   "attachments": {},
   "cell_type": "markdown",
   "metadata": {},
   "source": [
    "### Level 3 - Using .apply"
   ]
  },
  {
   "cell_type": "code",
   "execution_count": 93,
   "metadata": {},
   "outputs": [
    {
     "name": "stdout",
     "output_type": "stream",
     "text": [
      "1.12 s ± 18.9 ms per loop (mean ± std. dev. of 7 runs, 1 loop each)\n"
     ]
    }
   ],
   "source": [
    "%%timeit\n",
    "df['Need Doctor? (3)'] = df.apply(recommend_doctor2, axis = 1)"
   ]
  },
  {
   "attachments": {},
   "cell_type": "markdown",
   "metadata": {},
   "source": [
    "### Level 4 - Vectorizing Function"
   ]
  },
  {
   "cell_type": "code",
   "execution_count": 94,
   "metadata": {},
   "outputs": [
    {
     "name": "stdout",
     "output_type": "stream",
     "text": [
      "6.77 ms ± 138 µs per loop (mean ± std. dev. of 7 runs, 100 loops each)\n"
     ]
    }
   ],
   "source": [
    "%%timeit\n",
    "df['Need Doctor? (4)'] = False\n",
    "\n",
    "df.loc[(df['age'] >= 40) &\n",
    "         ((df['time_on_socialmedia_per_day(hours)'] >= 4) |\n",
    "          (df['number_of_workouts_per_week'] <= 1) | \n",
    "          (df['food_routine'].isin(['irregular', 'unhealthy']) |\n",
    "          (df['avg_time_sleeping'] <= 4))\n",
    "        ), 'Need Doctor? (4)'\n",
    "] = True"
   ]
  },
  {
   "attachments": {},
   "cell_type": "markdown",
   "metadata": {},
   "source": [
    "### Level 5 - Vectorizing with Numpy Functions"
   ]
  },
  {
   "cell_type": "code",
   "execution_count": 95,
   "metadata": {},
   "outputs": [],
   "source": [
    "conditions = [\n",
    "    (\n",
    "        df['age'] >= 40) & \n",
    "        (\n",
    "            (df['time_on_socialmedia_per_day(hours)'] >= 4) |\n",
    "            (df['number_of_workouts_per_week'] <= 1) |\n",
    "            (df['food_routine'].isin(['irregular', 'unhealthy'])) |\n",
    "            (df['avg_time_sleeping'] <= 4)\n",
    "        )\n",
    "    \n",
    "]"
   ]
  },
  {
   "cell_type": "code",
   "execution_count": 96,
   "metadata": {},
   "outputs": [],
   "source": [
    "choices = [\n",
    "True,\n",
    "]"
   ]
  },
  {
   "cell_type": "code",
   "execution_count": 97,
   "metadata": {},
   "outputs": [
    {
     "name": "stdout",
     "output_type": "stream",
     "text": [
      "705 µs ± 5.75 µs per loop (mean ± std. dev. of 7 runs, 1,000 loops each)\n"
     ]
    }
   ],
   "source": [
    "%%timeit\n",
    "df['Need Doctor? (5)'] = np.select(conditions, choices, default = False)"
   ]
  },
  {
   "cell_type": "code",
   "execution_count": 98,
   "metadata": {},
   "outputs": [
    {
     "data": {
      "text/html": [
       "<div>\n",
       "<style scoped>\n",
       "    .dataframe tbody tr th:only-of-type {\n",
       "        vertical-align: middle;\n",
       "    }\n",
       "\n",
       "    .dataframe tbody tr th {\n",
       "        vertical-align: top;\n",
       "    }\n",
       "\n",
       "    .dataframe thead th {\n",
       "        text-align: right;\n",
       "    }\n",
       "</style>\n",
       "<table border=\"1\" class=\"dataframe\">\n",
       "  <thead>\n",
       "    <tr style=\"text-align: right;\">\n",
       "      <th></th>\n",
       "      <th>age</th>\n",
       "      <th>time_on_socialmedia_per_day(hours)</th>\n",
       "      <th>number_of_workouts_per_week</th>\n",
       "      <th>food_routine</th>\n",
       "      <th>avg_time_sleeping</th>\n",
       "      <th>Need Doctor? (1)</th>\n",
       "      <th>Need Doctor? (2)</th>\n",
       "      <th>Need Doctor? (3)</th>\n",
       "      <th>Need Doctor? (4)</th>\n",
       "      <th>Need Doctor? (5)</th>\n",
       "    </tr>\n",
       "  </thead>\n",
       "  <tbody>\n",
       "    <tr>\n",
       "      <th>0</th>\n",
       "      <td>92</td>\n",
       "      <td>4.949962</td>\n",
       "      <td>3</td>\n",
       "      <td>balanced</td>\n",
       "      <td>5.631617</td>\n",
       "      <td>True</td>\n",
       "      <td>True</td>\n",
       "      <td>True</td>\n",
       "      <td>True</td>\n",
       "      <td>True</td>\n",
       "    </tr>\n",
       "    <tr>\n",
       "      <th>1</th>\n",
       "      <td>83</td>\n",
       "      <td>2.650109</td>\n",
       "      <td>0</td>\n",
       "      <td>healthy</td>\n",
       "      <td>4.334042</td>\n",
       "      <td>True</td>\n",
       "      <td>True</td>\n",
       "      <td>True</td>\n",
       "      <td>True</td>\n",
       "      <td>True</td>\n",
       "    </tr>\n",
       "    <tr>\n",
       "      <th>2</th>\n",
       "      <td>20</td>\n",
       "      <td>2.600077</td>\n",
       "      <td>3</td>\n",
       "      <td>balanced</td>\n",
       "      <td>6.562312</td>\n",
       "      <td>False</td>\n",
       "      <td>False</td>\n",
       "      <td>False</td>\n",
       "      <td>False</td>\n",
       "      <td>False</td>\n",
       "    </tr>\n",
       "    <tr>\n",
       "      <th>3</th>\n",
       "      <td>8</td>\n",
       "      <td>1.465209</td>\n",
       "      <td>4</td>\n",
       "      <td>moderate</td>\n",
       "      <td>5.188118</td>\n",
       "      <td>False</td>\n",
       "      <td>False</td>\n",
       "      <td>False</td>\n",
       "      <td>False</td>\n",
       "      <td>False</td>\n",
       "    </tr>\n",
       "    <tr>\n",
       "      <th>4</th>\n",
       "      <td>81</td>\n",
       "      <td>2.949768</td>\n",
       "      <td>7</td>\n",
       "      <td>irregular</td>\n",
       "      <td>0.516699</td>\n",
       "      <td>True</td>\n",
       "      <td>True</td>\n",
       "      <td>True</td>\n",
       "      <td>True</td>\n",
       "      <td>True</td>\n",
       "    </tr>\n",
       "    <tr>\n",
       "      <th>...</th>\n",
       "      <td>...</td>\n",
       "      <td>...</td>\n",
       "      <td>...</td>\n",
       "      <td>...</td>\n",
       "      <td>...</td>\n",
       "      <td>...</td>\n",
       "      <td>...</td>\n",
       "      <td>...</td>\n",
       "      <td>...</td>\n",
       "      <td>...</td>\n",
       "    </tr>\n",
       "    <tr>\n",
       "      <th>99995</th>\n",
       "      <td>88</td>\n",
       "      <td>0.700088</td>\n",
       "      <td>5</td>\n",
       "      <td>balanced</td>\n",
       "      <td>3.268053</td>\n",
       "      <td>True</td>\n",
       "      <td>True</td>\n",
       "      <td>True</td>\n",
       "      <td>True</td>\n",
       "      <td>True</td>\n",
       "    </tr>\n",
       "    <tr>\n",
       "      <th>99996</th>\n",
       "      <td>91</td>\n",
       "      <td>2.441058</td>\n",
       "      <td>2</td>\n",
       "      <td>healthy</td>\n",
       "      <td>5.020716</td>\n",
       "      <td>False</td>\n",
       "      <td>False</td>\n",
       "      <td>False</td>\n",
       "      <td>False</td>\n",
       "      <td>False</td>\n",
       "    </tr>\n",
       "    <tr>\n",
       "      <th>99997</th>\n",
       "      <td>17</td>\n",
       "      <td>1.348143</td>\n",
       "      <td>9</td>\n",
       "      <td>unhealthy</td>\n",
       "      <td>3.768625</td>\n",
       "      <td>False</td>\n",
       "      <td>False</td>\n",
       "      <td>False</td>\n",
       "      <td>False</td>\n",
       "      <td>False</td>\n",
       "    </tr>\n",
       "    <tr>\n",
       "      <th>99998</th>\n",
       "      <td>76</td>\n",
       "      <td>0.160991</td>\n",
       "      <td>5</td>\n",
       "      <td>healthy</td>\n",
       "      <td>4.876059</td>\n",
       "      <td>False</td>\n",
       "      <td>False</td>\n",
       "      <td>False</td>\n",
       "      <td>False</td>\n",
       "      <td>False</td>\n",
       "    </tr>\n",
       "    <tr>\n",
       "      <th>99999</th>\n",
       "      <td>94</td>\n",
       "      <td>1.749667</td>\n",
       "      <td>4</td>\n",
       "      <td>healthy</td>\n",
       "      <td>2.909079</td>\n",
       "      <td>True</td>\n",
       "      <td>True</td>\n",
       "      <td>True</td>\n",
       "      <td>True</td>\n",
       "      <td>True</td>\n",
       "    </tr>\n",
       "  </tbody>\n",
       "</table>\n",
       "<p>100000 rows × 10 columns</p>\n",
       "</div>"
      ],
      "text/plain": [
       "       age  time_on_socialmedia_per_day(hours)  number_of_workouts_per_week  \\\n",
       "0       92                            4.949962                            3   \n",
       "1       83                            2.650109                            0   \n",
       "2       20                            2.600077                            3   \n",
       "3        8                            1.465209                            4   \n",
       "4       81                            2.949768                            7   \n",
       "...    ...                                 ...                          ...   \n",
       "99995   88                            0.700088                            5   \n",
       "99996   91                            2.441058                            2   \n",
       "99997   17                            1.348143                            9   \n",
       "99998   76                            0.160991                            5   \n",
       "99999   94                            1.749667                            4   \n",
       "\n",
       "      food_routine  avg_time_sleeping Need Doctor? (1) Need Doctor? (2)  \\\n",
       "0         balanced           5.631617             True             True   \n",
       "1          healthy           4.334042             True             True   \n",
       "2         balanced           6.562312            False            False   \n",
       "3         moderate           5.188118            False            False   \n",
       "4        irregular           0.516699             True             True   \n",
       "...            ...                ...              ...              ...   \n",
       "99995     balanced           3.268053             True             True   \n",
       "99996      healthy           5.020716            False            False   \n",
       "99997    unhealthy           3.768625            False            False   \n",
       "99998      healthy           4.876059            False            False   \n",
       "99999      healthy           2.909079             True             True   \n",
       "\n",
       "       Need Doctor? (3)  Need Doctor? (4)  Need Doctor? (5)  \n",
       "0                  True              True              True  \n",
       "1                  True              True              True  \n",
       "2                 False             False             False  \n",
       "3                 False             False             False  \n",
       "4                  True              True              True  \n",
       "...                 ...               ...               ...  \n",
       "99995              True              True              True  \n",
       "99996             False             False             False  \n",
       "99997             False             False             False  \n",
       "99998             False             False             False  \n",
       "99999              True              True              True  \n",
       "\n",
       "[100000 rows x 10 columns]"
      ]
     },
     "execution_count": 98,
     "metadata": {},
     "output_type": "execute_result"
    }
   ],
   "source": [
    "df"
   ]
  },
  {
   "cell_type": "markdown",
   "metadata": {},
   "source": [
    "### Analysing results"
   ]
  },
  {
   "cell_type": "code",
   "execution_count": 18,
   "metadata": {},
   "outputs": [],
   "source": [
    "columns = ['Dataframe length', 'level 1', 'level 2', 'level 3', 'level 4', 'level 5']\n",
    "\n",
    "results = pd.DataFrame(columns = columns)"
   ]
  },
  {
   "cell_type": "code",
   "execution_count": 19,
   "metadata": {},
   "outputs": [],
   "source": [
    "results['Dataframe length'] = ['10.000', '50.000', '100.000']"
   ]
  },
  {
   "cell_type": "code",
   "execution_count": 20,
   "metadata": {},
   "outputs": [],
   "source": [
    "results['level 1'] = ['5 s ± 34.9 ms', '25.6 s ± 129 ms', '51.4 s ± 673 ms']\n",
    "results['level 2'] = ['1.27 s ± 11.7 ms', '6.43 s ± 49.7 ms', '13.3 s ± 457 ms' ]\n",
    "results['level 3'] = ['105 ms ± 1.17 ms', '534 ms ± 14.4 ms', '1.12 s ± 18.9 ms' ]\n",
    "results['level 4'] = ['1.57 ms ± 7.42 µs', '3.81 ms ± 44.6 µs', '6.77 ms ± 138 µs']\n",
    "results['level 5'] = ['120 µs ± 1.08 µs', '375 µs ± 8.08 µs', '705 µs ± 5.75 µs'] "
   ]
  },
  {
   "cell_type": "code",
   "execution_count": 21,
   "metadata": {},
   "outputs": [],
   "source": [
    "results['Level 5 compared to level 1 (times faster)'] = [41666, 68266, 72907]"
   ]
  },
  {
   "cell_type": "code",
   "execution_count": 22,
   "metadata": {},
   "outputs": [
    {
     "data": {
      "text/html": [
       "<div>\n",
       "<style scoped>\n",
       "    .dataframe tbody tr th:only-of-type {\n",
       "        vertical-align: middle;\n",
       "    }\n",
       "\n",
       "    .dataframe tbody tr th {\n",
       "        vertical-align: top;\n",
       "    }\n",
       "\n",
       "    .dataframe thead th {\n",
       "        text-align: right;\n",
       "    }\n",
       "</style>\n",
       "<table border=\"1\" class=\"dataframe\">\n",
       "  <thead>\n",
       "    <tr style=\"text-align: right;\">\n",
       "      <th></th>\n",
       "      <th>Dataframe length</th>\n",
       "      <th>level 1</th>\n",
       "      <th>level 2</th>\n",
       "      <th>level 3</th>\n",
       "      <th>level 4</th>\n",
       "      <th>level 5</th>\n",
       "      <th>Level 5 compared to level 1 (times faster)</th>\n",
       "    </tr>\n",
       "  </thead>\n",
       "  <tbody>\n",
       "    <tr>\n",
       "      <th>0</th>\n",
       "      <td>10.000</td>\n",
       "      <td>5 s ± 34.9 ms</td>\n",
       "      <td>1.27 s ± 11.7 ms</td>\n",
       "      <td>105 ms ± 1.17 ms</td>\n",
       "      <td>1.57 ms ± 7.42 µs</td>\n",
       "      <td>120 µs ± 1.08 µs</td>\n",
       "      <td>41666</td>\n",
       "    </tr>\n",
       "    <tr>\n",
       "      <th>1</th>\n",
       "      <td>50.000</td>\n",
       "      <td>25.6 s ± 129 ms</td>\n",
       "      <td>6.43 s ± 49.7 ms</td>\n",
       "      <td>534 ms ± 14.4 ms</td>\n",
       "      <td>3.81 ms ± 44.6 µs</td>\n",
       "      <td>375 µs ± 8.08 µs</td>\n",
       "      <td>68266</td>\n",
       "    </tr>\n",
       "    <tr>\n",
       "      <th>2</th>\n",
       "      <td>100.000</td>\n",
       "      <td>51.4 s ± 673 ms</td>\n",
       "      <td>13.3 s ± 457 ms</td>\n",
       "      <td>1.12 s ± 18.9 ms</td>\n",
       "      <td>6.77 ms ± 138 µs</td>\n",
       "      <td>705 µs ± 5.75 µs</td>\n",
       "      <td>72907</td>\n",
       "    </tr>\n",
       "  </tbody>\n",
       "</table>\n",
       "</div>"
      ],
      "text/plain": [
       "  Dataframe length          level 1           level 2           level 3  \\\n",
       "0           10.000    5 s ± 34.9 ms  1.27 s ± 11.7 ms  105 ms ± 1.17 ms   \n",
       "1           50.000  25.6 s ± 129 ms  6.43 s ± 49.7 ms  534 ms ± 14.4 ms   \n",
       "2          100.000  51.4 s ± 673 ms   13.3 s ± 457 ms  1.12 s ± 18.9 ms   \n",
       "\n",
       "             level 4           level 5  \\\n",
       "0  1.57 ms ± 7.42 µs  120 µs ± 1.08 µs   \n",
       "1  3.81 ms ± 44.6 µs  375 µs ± 8.08 µs   \n",
       "2   6.77 ms ± 138 µs  705 µs ± 5.75 µs   \n",
       "\n",
       "   Level 5 compared to level 1 (times faster)  \n",
       "0                                       41666  \n",
       "1                                       68266  \n",
       "2                                       72907  "
      ]
     },
     "execution_count": 22,
     "metadata": {},
     "output_type": "execute_result"
    }
   ],
   "source": [
    "results"
   ]
  },
  {
   "cell_type": "code",
   "execution_count": 23,
   "metadata": {},
   "outputs": [],
   "source": [
    "numeric_results = pd.DataFrame(columns = columns)"
   ]
  },
  {
   "cell_type": "code",
   "execution_count": 24,
   "metadata": {},
   "outputs": [],
   "source": [
    "numeric_results['Dataframe length'] = [10000, 50000, 100000]\n",
    "\n",
    "numeric_results['level 1'] = [5, 25.6, 51.4]\n",
    "numeric_results['level 2'] = [1.27, 6.43, 13.3 ]\n",
    "numeric_results['level 3'] = [0.105, 0.534, 1.12 ]\n",
    "numeric_results['level 4'] = [0.00157, 0.00381, 0.00677]\n",
    "numeric_results['level 5'] = [0.00012, 0.000375, 0.000705]"
   ]
  },
  {
   "cell_type": "code",
   "execution_count": 25,
   "metadata": {},
   "outputs": [],
   "source": [
    "numeric_results['comparision'] = [41666, 68266, 72907]"
   ]
  },
  {
   "cell_type": "code",
   "execution_count": 26,
   "metadata": {},
   "outputs": [],
   "source": [
    "import matplotlib.pyplot as plt"
   ]
  },
  {
   "cell_type": "markdown",
   "metadata": {},
   "source": [
    "### Plotting Results"
   ]
  },
  {
   "cell_type": "code",
   "execution_count": 44,
   "metadata": {},
   "outputs": [
    {
     "data": {
      "image/png": "[encoded data removed]",
      "text/plain": [
       "<Figure size 640x480 with 1 Axes>"
      ]
     },
     "metadata": {},
     "output_type": "display_data"
    }
   ],
   "source": [
    "plot_columns = ['level 1', 'level 2', 'level 3', 'level 4', 'level 5']\n",
    "\n",
    "for column_i in (plot_columns):\n",
    "     plt.plot(\n",
    "        numeric_results[column_i], \n",
    "        numeric_results['Dataframe length'], \n",
    "        label = column_i\n",
    "        )\n",
    "     \n",
    "plt.xlabel('Time in seconds')\n",
    "plt.ylabel('Length of Dataframe')\n",
    "\n",
    "plt.yticks([10000, 50000, 100000])\n",
    "\n",
    "ax = plt.gca()\n",
    "ax.spines['top'].set_visible(False)\n",
    "ax.spines['right'].set_visible(False)\n",
    "\n",
    "plt.title('Comparision plot of the 5 code levels')\n",
    "plt.legend()\n",
    "plt.show()"
   ]
  },
  {
   "cell_type": "code",
   "execution_count": 122,
   "metadata": {},
   "outputs": [
    {
     "data": {
      "image/png": "[encoded data removed]",
      "text/plain": [
       "<Figure size 640x480 with 1 Axes>"
      ]
     },
     "metadata": {},
     "output_type": "display_data"
    }
   ],
   "source": [
    "x = ['10000', '50000', '100000']\n",
    "y = np.array(numeric_results['comparision'])\n",
    "\n",
    "plt.bar(x, numeric_results['comparision'])\n",
    "\n",
    "plt.title('Efficiency bar based on dataframe length')\n",
    "\n",
    "plt.xlabel('length of Dataframe')\n",
    "plt.ylabel('Level 5 speed times faster than level 1')\n",
    "\n",
    "ax = plt.gca()\n",
    "ax.spines['top'].set_visible(False)\n",
    "ax.spines['right'].set_visible(False)\n",
    "\n",
    "plt.show()"
   ]
  },
  {
   "cell_type": "code",
   "execution_count": 69,
   "metadata": {},
   "outputs": [],
   "source": [
    "import time"
   ]
  },
  {
   "cell_type": "code",
   "execution_count": 135,
   "metadata": {},
   "outputs": [],
   "source": [
    "df = pd.DataFrame()\n",
    "\n",
    "size = 100000\n",
    "\n",
    "df['age'] = np.random.randint(0, 100, size)\n",
    "df['time_on_socialmedia_per_day(hours)'] = np.random.uniform(0, 5, size)\n",
    "df['number_of_workouts_per_week'] = np.random.randint(0, 10, size)\n",
    "df['food_routine'] = np.random.choice(['healthy', 'balanced', 'moderate', 'irregular', 'unhealthy'], size)\n",
    "df['avg_time_sleeping'] = np.random.uniform(0, 10, size)"
   ]
  },
  {
   "cell_type": "code",
   "execution_count": 136,
   "metadata": {},
   "outputs": [
    {
     "name": "stdout",
     "output_type": "stream",
     "text": [
      "54.22852158546448\n"
     ]
    }
   ],
   "source": [
    "start_time = time.time()\n",
    "\n",
    "df['Need Doctor? (1)'] = None\n",
    "for column in ['time_on_socialmedia_per_day(hours)', 'number_of_workouts_per_week', 'food_routine', 'avg_time_sleeping']:    \n",
    "    for index in range(len(df)):\n",
    "        age = df.loc[index, 'age']\n",
    "\n",
    "        if (check_age(age) == True) and (recommend_doctor(column, df.loc[index, column]) == True):\n",
    "            df.loc[index, 'Need Doctor? (1)'] = True\n",
    "        \n",
    "        else:\n",
    "\n",
    "         if (df.loc[index, 'Need Doctor? (1)'] == True):\n",
    "             None\n",
    "\n",
    "         else: \n",
    "             df.loc[index, 'Need Doctor? (1)'] = False\n",
    "\n",
    "end_time = time.time()\n",
    "\n",
    "print(end_time - start_time)"
   ]
  },
  {
   "cell_type": "code",
   "execution_count": 137,
   "metadata": {},
   "outputs": [],
   "source": [
    "conditions = [\n",
    "    (\n",
    "        df['age'] >= 40) & \n",
    "        (\n",
    "            (df['time_on_socialmedia_per_day(hours)'] >= 4) |\n",
    "            (df['number_of_workouts_per_week'] <= 1) |\n",
    "            (df['food_routine'].isin(['irregular', 'unhealthy'])) |\n",
    "            (df['avg_time_sleeping'] <= 4)\n",
    "        )\n",
    "    \n",
    "]"
   ]
  },
  {
   "cell_type": "code",
   "execution_count": 138,
   "metadata": {},
   "outputs": [],
   "source": [
    "choices = [\n",
    "True,\n",
    "]"
   ]
  },
  {
   "cell_type": "code",
   "execution_count": 139,
   "metadata": {},
   "outputs": [
    {
     "name": "stdout",
     "output_type": "stream",
     "text": [
      "682 µs ± 6.57 µs per loop (mean ± std. dev. of 7 runs, 1,000 loops each)\n"
     ]
    }
   ],
   "source": [
    "%%timeit\n",
    "df['Need Doctor? (5)'] = np.select(conditions, choices, default = False)"
   ]
  },
  {
   "cell_type": "code",
   "execution_count": 140,
   "metadata": {},
   "outputs": [],
   "source": [
    "efficiency_curve_vector_level1 = [5.6606, 16.3902, 25.6203, 37.6420, 49.1088, 54.2, 63.5252, 77.4953]\n",
    "efficiency_curve_vector_level5 = [0.00012, 0.000245, 0.000375, 0.000496, 0.000620, 0.000685, 0.000806, 0.000973]\n",
    "\n",
    "efficiency = np.divide(efficiency_curve_vector_level1, efficiency_curve_vector_level5)\n",
    "\n",
    "efficiency_curve_dataframe_length = [10000, 30000, 50000, 70000, 90000, 100000, 120000, 140000]"
   ]
  },
  {
   "cell_type": "code",
   "execution_count": 142,
   "metadata": {},
   "outputs": [
    {
     "data": {
      "image/png": "[encoded data removed]",
      "text/plain": [
       "<Figure size 640x480 with 1 Axes>"
      ]
     },
     "metadata": {},
     "output_type": "display_data"
    }
   ],
   "source": [
    "plt.plot(efficiency_curve_dataframe_length, efficiency)\n",
    "plt.scatter(efficiency_curve_dataframe_length, efficiency)\n",
    "\n",
    "plt.title('Efficiency Curve')\n",
    "\n",
    "plt.xlabel('Dataframe length')\n",
    "plt.ylabel('Level 5 speed times faster than level 1')\n",
    "\n",
    "ax = plt.gca()\n",
    "ax.spines['top'].set_visible(False)\n",
    "ax.spines['right'].set_visible(False)\n",
    "\n",
    "plt.show()"
   ]
  }
 ],
 "metadata": {
  "kernelspec": {
   "display_name": "Python 3",
   "language": "python",
   "name": "python3"
  },
  "language_info": {
   "codemirror_mode": {
    "name": "ipython",
    "version": 3
   },
   "file_extension": ".py",
   "mimetype": "text/x-python",
   "name": "python",
   "nbconvert_exporter": "python",
   "pygments_lexer": "ipython3",
   "version": "3.11.4"
  },
  "orig_nbformat": 4
 },
 "nbformat": 4,
 "nbformat_minor": 2
}
